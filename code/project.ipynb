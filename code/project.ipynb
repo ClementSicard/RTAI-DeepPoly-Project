{
 "cells": [
  {
   "cell_type": "code",
   "execution_count": 1,
   "metadata": {},
   "outputs": [
    {
     "name": "stdout",
     "output_type": "stream",
     "text": [
      "Network: FullyConnected(\n",
      "  (layers): Sequential(\n",
      "    (0): Normalization()\n",
      "    (1): Flatten(start_dim=1, end_dim=-1)\n",
      "    (2): Linear(in_features=784, out_features=50, bias=True)\n",
      "    (3): SPU()\n",
      "    (4): Linear(in_features=50, out_features=10, bias=True)\n",
      "  )\n",
      ")\n",
      "Layer 4/5: Linear(in_features=50, out_features=10, bias=True)\n",
      "Transformer: DeepPolyTransformer(layer: Linear(in_features=50, out_features=10, bias=True))\n",
      "\tWeights shape: (10, 50)\n",
      "\tBounds shape: (10,)\n",
      "Previous transformer: DeepPolyTransformer(layer: SPU())\n",
      "\tWeights shape: (50, 50)\n",
      "\tBounds shape: (50,)\n",
      "================================================================================\n",
      "Lower_weights.T shape: (50, 50)\n",
      "Product shape: (50, 50)\n",
      "Bias shape: (50,)\n",
      "Lower shape: (50,)\n",
      "Upper shape: (50,)\n",
      "Layer 3/5: SPU()\n",
      "Transformer: DeepPolyTransformer(layer: None)\n",
      "\tWeights shape: (50, 50)\n",
      "\tBounds shape: (50,)\n",
      "Previous transformer: DeepPolyTransformer(layer: Linear(in_features=784, out_features=50, bias=True))\n",
      "\tWeights shape: (50, 784)\n",
      "\tBounds shape: (50,)\n",
      "================================================================================\n",
      "Lower_weights.T shape: (784, 50)\n",
      "Product shape: (784, 50)\n",
      "Bias shape: (784,)\n",
      "Lower shape: (784,)\n",
      "Upper shape: (784,)\n",
      "Layer 2/5: Linear(in_features=784, out_features=50, bias=True)\n",
      "Transformer: DeepPolyTransformer(layer: None)\n",
      "\tWeights shape: (50, 784)\n",
      "\tBounds shape: (784,)\n",
      "Previous transformer: DeepPolyTransformer(layer: Flatten(start_dim=1, end_dim=-1))\n",
      "\tWeights shape: (1, 1, 28, 28, 1, 1, 28, 28)\n",
      "\tBounds shape: (784,)\n"
     ]
    },
    {
     "ename": "ValueError",
     "evalue": "operands could not be broadcast together with shapes (1,1,28,28) (784,) ",
     "output_type": "error",
     "traceback": [
      "\u001b[0;31m---------------------------------------------------------------------------\u001b[0m",
      "\u001b[0;31mValueError\u001b[0m                                Traceback (most recent call last)",
      "\u001b[0;32m/var/folders/4v/rbg8qwl17tx8qjyp4z64cntc0000gn/T/ipykernel_9186/2675857485.py\u001b[0m in \u001b[0;36m<module>\u001b[0;34m\u001b[0m\n\u001b[1;32m     85\u001b[0m \u001b[0;34m\u001b[0m\u001b[0m\n\u001b[1;32m     86\u001b[0m \u001b[0;34m\u001b[0m\u001b[0m\n\u001b[0;32m---> 87\u001b[0;31m \u001b[0;32mif\u001b[0m \u001b[0manalyze\u001b[0m\u001b[0;34m(\u001b[0m\u001b[0mnet\u001b[0m\u001b[0;34m,\u001b[0m \u001b[0minputs\u001b[0m\u001b[0;34m,\u001b[0m \u001b[0meps\u001b[0m\u001b[0;34m,\u001b[0m \u001b[0mtrue_label\u001b[0m\u001b[0;34m)\u001b[0m\u001b[0;34m:\u001b[0m\u001b[0;34m\u001b[0m\u001b[0;34m\u001b[0m\u001b[0m\n\u001b[0m\u001b[1;32m     88\u001b[0m     \u001b[0mprint\u001b[0m\u001b[0;34m(\u001b[0m\u001b[0;34m'verified'\u001b[0m\u001b[0;34m)\u001b[0m\u001b[0;34m\u001b[0m\u001b[0;34m\u001b[0m\u001b[0m\n\u001b[1;32m     89\u001b[0m \u001b[0;32melse\u001b[0m\u001b[0;34m:\u001b[0m\u001b[0;34m\u001b[0m\u001b[0;34m\u001b[0m\u001b[0m\n",
      "\u001b[0;32m/var/folders/4v/rbg8qwl17tx8qjyp4z64cntc0000gn/T/ipykernel_9186/2675857485.py\u001b[0m in \u001b[0;36manalyze\u001b[0;34m(net, inputs, eps, true_label)\u001b[0m\n\u001b[1;32m     42\u001b[0m                            eps=eps, true_label=true_label, verbose=verbose)\n\u001b[1;32m     43\u001b[0m \u001b[0;34m\u001b[0m\u001b[0m\n\u001b[0;32m---> 44\u001b[0;31m     \u001b[0mverifier\u001b[0m\u001b[0;34m.\u001b[0m\u001b[0mverify\u001b[0m\u001b[0;34m(\u001b[0m\u001b[0;34m)\u001b[0m\u001b[0;34m\u001b[0m\u001b[0;34m\u001b[0m\u001b[0m\n\u001b[0m\u001b[1;32m     45\u001b[0m \u001b[0;34m\u001b[0m\u001b[0m\n\u001b[1;32m     46\u001b[0m \u001b[0;34m\u001b[0m\u001b[0m\n",
      "\u001b[0;32m~/Library/Mobile Documents/com~apple~CloudDocs/ETH Zurich/MA1/RTAI/PROJECT/code/deeppoly.py\u001b[0m in \u001b[0;36mverify\u001b[0;34m(self)\u001b[0m\n\u001b[1;32m    282\u001b[0m             current_transformer = self.back_substitution(\n\u001b[1;32m    283\u001b[0m                 \u001b[0mtransformer\u001b[0m\u001b[0;34m=\u001b[0m\u001b[0mcurrent_transformer\u001b[0m\u001b[0;34m,\u001b[0m\u001b[0;34m\u001b[0m\u001b[0;34m\u001b[0m\u001b[0m\n\u001b[0;32m--> 284\u001b[0;31m                 \u001b[0mprevious_transformer\u001b[0m\u001b[0;34m=\u001b[0m\u001b[0mself\u001b[0m\u001b[0;34m.\u001b[0m\u001b[0mtransformers\u001b[0m\u001b[0;34m[\u001b[0m\u001b[0mi\u001b[0m\u001b[0;34m]\u001b[0m\u001b[0;34m\u001b[0m\u001b[0;34m\u001b[0m\u001b[0m\n\u001b[0m\u001b[1;32m    285\u001b[0m             )\n\u001b[1;32m    286\u001b[0m \u001b[0;34m\u001b[0m\u001b[0m\n",
      "\u001b[0;32m~/Library/Mobile Documents/com~apple~CloudDocs/ETH Zurich/MA1/RTAI/PROJECT/code/deeppoly.py\u001b[0m in \u001b[0;36mback_substitution\u001b[0;34m(self, transformer, previous_transformer)\u001b[0m\n\u001b[1;32m    329\u001b[0m \u001b[0;34m\u001b[0m\u001b[0m\n\u001b[1;32m    330\u001b[0m             \u001b[0;31m# Lower transformer bound\u001b[0m\u001b[0;34m\u001b[0m\u001b[0;34m\u001b[0m\u001b[0;34m\u001b[0m\u001b[0m\n\u001b[0;32m--> 331\u001b[0;31m             \u001b[0mprev_l_tmp_bias\u001b[0m \u001b[0;34m=\u001b[0m \u001b[0;34m(\u001b[0m\u001b[0mprevious_transformer\u001b[0m\u001b[0;34m.\u001b[0m\u001b[0mlower_bias\u001b[0m \u001b[0;34m*\u001b[0m \u001b[0;34m(\u001b[0m\u001b[0mtransformer\u001b[0m\u001b[0;34m.\u001b[0m\u001b[0mlower_weights\u001b[0m\u001b[0;34m[\u001b[0m\u001b[0mneur\u001b[0m\u001b[0;34m]\u001b[0m \u001b[0;34m>=\u001b[0m \u001b[0;36m0\u001b[0m\u001b[0;34m)\u001b[0m\u001b[0;34m)\u001b[0m \u001b[0;34m+\u001b[0m\u001b[0;31m\\\u001b[0m\u001b[0;34m\u001b[0m\u001b[0;34m\u001b[0m\u001b[0m\n\u001b[0m\u001b[1;32m    332\u001b[0m                 (previous_transformer.upper_bias *\n\u001b[1;32m    333\u001b[0m                  (transformer.lower_weights[neur] < 0))\n",
      "\u001b[0;31mValueError\u001b[0m: operands could not be broadcast together with shapes (1,1,28,28) (784,) "
     ]
    }
   ],
   "source": [
    "import torch\n",
    "from networks import FullyConnected, SPU, Normalization\n",
    "import os\n",
    "import time\n",
    "import numpy as np\n",
    "from itertools import product\n",
    "from box import BoxVerifier\n",
    "from deeppoly import DeepPolyVerifier\n",
    "\n",
    "DEVICE = 'cpu'\n",
    "INPUT_SIZE = 28\n",
    "\n",
    "\n",
    "class Args:\n",
    "    net: str\n",
    "    spec: str\n",
    "\n",
    "    def __init__(self, net: str, spec: str):\n",
    "        self.net = net\n",
    "        self.spec = spec\n",
    "\n",
    "\n",
    "def analyze(net: torch.nn.Module, inputs: torch.FloatTensor, eps: float, true_label: int) -> str:\n",
    "    \"\"\"Returns \"verified\" if the returned label is the same for all points in a L-infinite epsilon-ball around an input point, and \"not verified\" otherwise.\n",
    "\n",
    "    Args:\n",
    "        net (torch.nn.Module): [description]\n",
    "        inputs (torch.FloatTensor): [description]\n",
    "        eps (float): [description]\n",
    "        true_label (int): [description]\n",
    "\n",
    "    Returns:\n",
    "        [str]: Returns \"verified\" or \"not verified\"\n",
    "    \"\"\"\n",
    "    verbose = False\n",
    "\n",
    "\n",
    "    print(f\"Network: {net}\")\n",
    "\n",
    "\n",
    "    verifier = DeepPolyVerifier(net=net, inputs=inputs,\n",
    "                           eps=eps, true_label=true_label, verbose=verbose)\n",
    "    \n",
    "    verifier.verify()\n",
    "\n",
    "\n",
    "args = Args(\n",
    "    net=\"net0_fc1\",\n",
    "    spec=\"../test_cases/net0_fc1/example_img0_0.01800.txt\"\n",
    ")\n",
    "\n",
    "with open(args.spec, 'r') as f:\n",
    "    lines = [line[:-1] for line in f.readlines()]\n",
    "    true_label = int(lines[0])\n",
    "    pixel_values = [float(line) for line in lines[1:]]\n",
    "    eps = float(args.spec[:-4].split('/')[-1].split('_')[-1])\n",
    "\n",
    "if args.net.endswith('fc1'):\n",
    "    net = FullyConnected(DEVICE, INPUT_SIZE, [50, 10]).to(DEVICE)\n",
    "\n",
    "elif args.net.endswith('fc2'):\n",
    "    net = FullyConnected(DEVICE, INPUT_SIZE, [100, 50, 10]).to(DEVICE)\n",
    "\n",
    "elif args.net.endswith('fc3'):\n",
    "    net = FullyConnected(DEVICE, INPUT_SIZE, [100, 100, 10]).to(DEVICE)\n",
    "\n",
    "elif args.net.endswith('fc4'):\n",
    "    net = FullyConnected(DEVICE, INPUT_SIZE, [100, 100, 50, 10]).to(DEVICE)\n",
    "\n",
    "elif args.net.endswith('fc5'):\n",
    "    net = FullyConnected(DEVICE, INPUT_SIZE, [\n",
    "        100, 100, 100, 100, 10]).to(DEVICE)\n",
    "else:\n",
    "    assert False\n",
    "\n",
    "net.load_state_dict(torch.load('../mnist_nets/%s.pt' %\n",
    "                    args.net, map_location=torch.device(DEVICE)))\n",
    "\n",
    "inputs = torch.FloatTensor(pixel_values).view(\n",
    "    1, 1, INPUT_SIZE, INPUT_SIZE).to(DEVICE)\n",
    "\n",
    "outs = net(inputs)\n",
    "pred_label = outs.max(dim=1)[1].item()\n",
    "assert pred_label == true_label\n",
    "\n",
    "\n",
    "if analyze(net, inputs, eps, true_label):\n",
    "    print('verified')\n",
    "else:\n",
    "    print('not verified')\n"
   ]
  },
  {
   "cell_type": "markdown",
   "metadata": {},
   "source": [
    "# TESTS"
   ]
  },
  {
   "cell_type": "code",
   "execution_count": null,
   "metadata": {},
   "outputs": [],
   "source": []
  },
  {
   "cell_type": "code",
   "execution_count": 5,
   "metadata": {},
   "outputs": [],
   "source": [
    "layer_shape = (1,1,4,4)"
   ]
  },
  {
   "cell_type": "code",
   "execution_count": 6,
   "metadata": {},
   "outputs": [
    {
     "data": {
      "text/plain": [
       "(1, 1, 4, 4, 1, 1, 4, 4)"
      ]
     },
     "execution_count": 6,
     "metadata": {},
     "output_type": "execute_result"
    }
   ],
   "source": [
    "np.zeros(2 * layer_shape).shape"
   ]
  },
  {
   "cell_type": "code",
   "execution_count": 7,
   "metadata": {},
   "outputs": [
    {
     "data": {
      "text/plain": [
       "([0, 0, 0, 0, 0, 0, 0, 0, 0, 0, 0, 0, 0, 0, 0, 0],\n",
       " [0, 0, 0, 0, 0, 0, 0, 0, 0, 0, 0, 0, 0, 0, 0, 0],\n",
       " [0, 0, 0, 0, 1, 1, 1, 1, 2, 2, 2, 2, 3, 3, 3, 3],\n",
       " [0, 1, 2, 3, 0, 1, 2, 3, 0, 1, 2, 3, 0, 1, 2, 3],\n",
       " [0, 0, 0, 0, 0, 0, 0, 0, 0, 0, 0, 0, 0, 0, 0, 0],\n",
       " [0, 0, 0, 0, 0, 0, 0, 0, 0, 0, 0, 0, 0, 0, 0, 0],\n",
       " [0, 0, 0, 0, 1, 1, 1, 1, 2, 2, 2, 2, 3, 3, 3, 3],\n",
       " [0, 1, 2, 3, 0, 1, 2, 3, 0, 1, 2, 3, 0, 1, 2, 3])"
      ]
     },
     "execution_count": 7,
     "metadata": {},
     "output_type": "execute_result"
    }
   ],
   "source": [
    "tuple(list(map(lambda x: list(x), zip(\n",
    "    *product(*map(range, layer_shape))))) * 2)\n"
   ]
  },
  {
   "cell_type": "code",
   "execution_count": 13,
   "metadata": {},
   "outputs": [],
   "source": [
    "indices = tuple(list(map(lambda x: list(x), zip(*product(*map(range, layer_shape))))))"
   ]
  },
  {
   "cell_type": "code",
   "execution_count": 14,
   "metadata": {},
   "outputs": [
    {
     "data": {
      "text/plain": [
       "array([[ 0,  1,  2,  3],\n",
       "       [ 4,  5,  6,  7],\n",
       "       [ 8,  9, 10, 11],\n",
       "       [12, 13, 14, 15]])"
      ]
     },
     "execution_count": 14,
     "metadata": {},
     "output_type": "execute_result"
    }
   ],
   "source": [
    "a = np.arange(16).reshape((4,4))\n",
    "a"
   ]
  },
  {
   "cell_type": "code",
   "execution_count": 17,
   "metadata": {},
   "outputs": [
    {
     "data": {
      "text/plain": [
       "array([[12, 13, 14, 15],\n",
       "       [ 8,  9, 10, 11],\n",
       "       [ 4,  5,  6,  7],\n",
       "       [ 0,  1,  2,  3]])"
      ]
     },
     "execution_count": 17,
     "metadata": {},
     "output_type": "execute_result"
    }
   ],
   "source": [
    "a[::-1]"
   ]
  },
  {
   "cell_type": "code",
   "execution_count": 3,
   "metadata": {},
   "outputs": [
    {
     "data": {
      "text/plain": [
       "[3, 2, 1]"
      ]
     },
     "execution_count": 3,
     "metadata": {},
     "output_type": "execute_result"
    }
   ],
   "source": [
    "a = [1,2,3,4]\n",
    "a[:-1][::-1]"
   ]
  },
  {
   "cell_type": "code",
   "execution_count": 4,
   "metadata": {},
   "outputs": [
    {
     "ename": "TypeError",
     "evalue": "'enumerate' object is not reversible",
     "output_type": "error",
     "traceback": [
      "\u001b[0;31m---------------------------------------------------------------------------\u001b[0m",
      "\u001b[0;31mTypeError\u001b[0m                                 Traceback (most recent call last)",
      "\u001b[0;32m/var/folders/4v/rbg8qwl17tx8qjyp4z64cntc0000gn/T/ipykernel_97773/3009034266.py\u001b[0m in \u001b[0;36m<module>\u001b[0;34m\u001b[0m\n\u001b[0;32m----> 1\u001b[0;31m \u001b[0mreversed\u001b[0m\u001b[0;34m(\u001b[0m\u001b[0menumerate\u001b[0m\u001b[0;34m(\u001b[0m\u001b[0ma\u001b[0m\u001b[0;34m)\u001b[0m\u001b[0;34m)\u001b[0m\u001b[0;34m\u001b[0m\u001b[0;34m\u001b[0m\u001b[0m\n\u001b[0m",
      "\u001b[0;31mTypeError\u001b[0m: 'enumerate' object is not reversible"
     ]
    }
   ],
   "source": [
    "reversed(enumerate(a))"
   ]
  },
  {
   "cell_type": "code",
   "execution_count": 7,
   "metadata": {},
   "outputs": [
    {
     "name": "stdout",
     "output_type": "stream",
     "text": [
      "(5,)\n"
     ]
    },
    {
     "data": {
      "text/plain": [
       "(5, 1)"
      ]
     },
     "execution_count": 7,
     "metadata": {},
     "output_type": "execute_result"
    }
   ],
   "source": [
    "a = np.array([1,2,3,4,5])\n",
    "print(a.T.shape)\n",
    "a.reshape((-1, 1)).shape"
   ]
  },
  {
   "cell_type": "code",
   "execution_count": 1,
   "metadata": {},
   "outputs": [
    {
     "ename": "NameError",
     "evalue": "name 'np' is not defined",
     "output_type": "error",
     "traceback": [
      "\u001b[0;31m---------------------------------------------------------------------------\u001b[0m",
      "\u001b[0;31mNameError\u001b[0m                                 Traceback (most recent call last)",
      "\u001b[0;32m/var/folders/4v/rbg8qwl17tx8qjyp4z64cntc0000gn/T/ipykernel_8108/2417167282.py\u001b[0m in \u001b[0;36m<module>\u001b[0;34m\u001b[0m\n\u001b[0;32m----> 1\u001b[0;31m \u001b[0ma\u001b[0m \u001b[0;34m=\u001b[0m \u001b[0mnp\u001b[0m\u001b[0;34m.\u001b[0m\u001b[0mones\u001b[0m\u001b[0;34m(\u001b[0m\u001b[0;34m(\u001b[0m\u001b[0;36m5\u001b[0m\u001b[0;34m,\u001b[0m \u001b[0;36m2\u001b[0m\u001b[0;34m)\u001b[0m\u001b[0;34m)\u001b[0m\u001b[0;34m\u001b[0m\u001b[0;34m\u001b[0m\u001b[0m\n\u001b[0m\u001b[1;32m      2\u001b[0m \u001b[0mb\u001b[0m \u001b[0;34m=\u001b[0m \u001b[0mnp\u001b[0m\u001b[0;34m.\u001b[0m\u001b[0marray\u001b[0m\u001b[0;34m(\u001b[0m\u001b[0;34m[\u001b[0m\u001b[0;36m5\u001b[0m\u001b[0;34m,\u001b[0m \u001b[0;36m5\u001b[0m\u001b[0;34m,\u001b[0m \u001b[0;36m5\u001b[0m\u001b[0;34m,\u001b[0m \u001b[0;36m5\u001b[0m\u001b[0;34m,\u001b[0m \u001b[0;36m5\u001b[0m\u001b[0;34m]\u001b[0m\u001b[0;34m)\u001b[0m\u001b[0;34m\u001b[0m\u001b[0;34m\u001b[0m\u001b[0m\n\u001b[1;32m      3\u001b[0m \u001b[0;34m\u001b[0m\u001b[0m\n\u001b[1;32m      4\u001b[0m \u001b[0mprint\u001b[0m\u001b[0;34m(\u001b[0m\u001b[0;34mf\"a: {a}\"\u001b[0m\u001b[0;34m)\u001b[0m\u001b[0;34m\u001b[0m\u001b[0;34m\u001b[0m\u001b[0m\n\u001b[1;32m      5\u001b[0m \u001b[0mprint\u001b[0m\u001b[0;34m(\u001b[0m\u001b[0;34mf\"Shape of a: {a.shape}\"\u001b[0m\u001b[0;34m)\u001b[0m\u001b[0;34m\u001b[0m\u001b[0;34m\u001b[0m\u001b[0m\n",
      "\u001b[0;31mNameError\u001b[0m: name 'np' is not defined"
     ]
    }
   ],
   "source": [
    "a = np.ones((5, 2))\n",
    "b = np.array([5, 5, 5, 5, 5])\n",
    "\n",
    "print(f\"a: {a}\")\n",
    "print(f\"Shape of a: {a.shape}\")\n",
    "print(f\"Shape of b: {b.shape}\")\n",
    "print(f\"Shape of a + b: {(a + b.reshape(-1,1)).shape}\")\n",
    "print(f\"a + b: {a + b.reshape(-1,1)}\")"
   ]
  },
  {
   "cell_type": "code",
   "execution_count": 7,
   "metadata": {},
   "outputs": [
    {
     "data": {
      "text/plain": [
       "array([[[[0., 0., 0., 0., 0.],\n",
       "         [0., 0., 0., 0., 0.],\n",
       "         [0., 0., 0., 0., 0.],\n",
       "         [0., 0., 0., 0., 0.],\n",
       "         [0., 0., 0., 0., 0.]]]])"
      ]
     },
     "execution_count": 7,
     "metadata": {},
     "output_type": "execute_result"
    }
   ],
   "source": [
    "a = np.zeros((1,1,5, 5))\n",
    "np.zeros((25,)).reshape((1,1,5,5))\n"
   ]
  },
  {
   "cell_type": "code",
   "execution_count": null,
   "metadata": {},
   "outputs": [],
   "source": []
  }
 ],
 "metadata": {
  "interpreter": {
   "hash": "39d7dbb437d063c754c82cf8e6b839566e777d8b07cf6ccd9b0451f2a2b8e0f1"
  },
  "kernelspec": {
   "display_name": "Python 3.7.11 64-bit ('deeppoly': conda)",
   "language": "python",
   "name": "python3"
  },
  "language_info": {
   "codemirror_mode": {
    "name": "ipython",
    "version": 3
   },
   "file_extension": ".py",
   "mimetype": "text/x-python",
   "name": "python",
   "nbconvert_exporter": "python",
   "pygments_lexer": "ipython3",
   "version": "3.7.11"
  },
  "orig_nbformat": 4
 },
 "nbformat": 4,
 "nbformat_minor": 2
}
