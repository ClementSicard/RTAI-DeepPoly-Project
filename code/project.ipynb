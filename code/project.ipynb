{
 "cells": [
  {
   "cell_type": "code",
   "execution_count": 1,
   "metadata": {},
   "outputs": [
    {
     "name": "stdout",
     "output_type": "stream",
     "text": [
      "Network: FullyConnected(\n",
      "  (layers): Sequential(\n",
      "    (0): Normalization()\n",
      "    (1): Flatten(start_dim=1, end_dim=-1)\n",
      "    (2): Linear(in_features=784, out_features=50, bias=True)\n",
      "    (3): SPU()\n",
      "    (4): Linear(in_features=50, out_features=10, bias=True)\n",
      "  )\n",
      ")\n",
      "============================================================\n",
      "Layer: Input()\n",
      "\n",
      "Layer: Normalization()\n",
      "\t\tWeights shape: (1, 1, 28, 28)\n",
      "\t\tBias shape: (1, 1, 28, 28)\n",
      "\n",
      "Layer: Flatten(start_dim=1, end_dim=-1)\n",
      "\tTransform from Normalization()\n",
      "\n",
      "\t\tWeights shape: (1, 1, 28, 28, 784)\n",
      "\t\tBias shape: (784, 1)\n",
      "\n",
      "Layer: Linear(in_features=784, out_features=50, bias=True)\n",
      "\tTransform from Flatten(start_dim=1, end_dim=-1)\n",
      "\n",
      "\t\tWeights shape: (784, 50)\n",
      "\t\tBias shape: (784, 1)\n",
      "\n",
      "Layer: SPU()\n",
      "\tTransform from Linear(in_features=784, out_features=50, bias=True)\n",
      "\n",
      "\t\tWeights shape: (50, 50)\n",
      "\t\tBias shape: (50, 1)\n",
      "\n",
      "Layer: Linear(in_features=50, out_features=10, bias=True)\n",
      "\tTransform from SPU()\n",
      "\n",
      "\t\tWeights shape: (50, 10)\n",
      "\t\tBias shape: (50, 1)\n",
      "============================================================\n",
      "\n",
      "[Backsubstitution]\n",
      "\n",
      "Layer 5/5: Linear(in_features=50, out_features=10, bias=True)\n",
      "\n",
      "Previous transformer: DeepPolyTransformer(layer: SPU(), input_shape: (50,), layer_shape: (50,))\n",
      "\tWeights shape: (50, 50)\n",
      "\tBounds shape: (50,)\n",
      "\tLayer shape: (50,)\n",
      "\tInput shape: (50,)\n",
      "\n",
      "Transformer: DeepPolyTransformer(layer: Linear(in_features=50, out_features=10, bias=True), input_shape: (10,), layer_shape: (10,))\n",
      "\tWeights shape: (50, 10)\n",
      "\tBounds shape: (10,)\n",
      "\tLayer shape: (10,)\n",
      "\tInput shape: (10,)\n",
      "\n",
      "Wanted weights shape: (50, 10)\n",
      "Wanted bias shape: (50, 1)\n",
      "\n",
      "Prev lower weights: (50, 50)\n",
      "(transformer.lower_weights >= 0): (10,)\n",
      "Previous lower tmp bias: (50, 1)\n",
      "Previous lower tmp weights: (50, 50)\n"
     ]
    },
    {
     "ename": "ValueError",
     "evalue": "matmul: Input operand 1 has a mismatch in its core dimension 0, with gufunc signature (n?,k),(k,m?)->(n?,m?) (size 50 is different from 10)",
     "output_type": "error",
     "traceback": [
      "\u001b[0;31m---------------------------------------------------------------------------\u001b[0m",
      "\u001b[0;31mValueError\u001b[0m                                Traceback (most recent call last)",
      "\u001b[0;32m/var/folders/4v/rbg8qwl17tx8qjyp4z64cntc0000gn/T/ipykernel_40846/623903737.py\u001b[0m in \u001b[0;36m<module>\u001b[0;34m\u001b[0m\n\u001b[1;32m     84\u001b[0m \u001b[0;34m\u001b[0m\u001b[0m\n\u001b[1;32m     85\u001b[0m \u001b[0;34m\u001b[0m\u001b[0m\n\u001b[0;32m---> 86\u001b[0;31m \u001b[0;32mif\u001b[0m \u001b[0manalyze\u001b[0m\u001b[0;34m(\u001b[0m\u001b[0mnet\u001b[0m\u001b[0;34m,\u001b[0m \u001b[0minputs\u001b[0m\u001b[0;34m,\u001b[0m \u001b[0meps\u001b[0m\u001b[0;34m,\u001b[0m \u001b[0mtrue_label\u001b[0m\u001b[0;34m)\u001b[0m\u001b[0;34m:\u001b[0m\u001b[0;34m\u001b[0m\u001b[0;34m\u001b[0m\u001b[0m\n\u001b[0m\u001b[1;32m     87\u001b[0m     \u001b[0mprint\u001b[0m\u001b[0;34m(\u001b[0m\u001b[0;34m'verified'\u001b[0m\u001b[0;34m)\u001b[0m\u001b[0;34m\u001b[0m\u001b[0;34m\u001b[0m\u001b[0m\n\u001b[1;32m     88\u001b[0m \u001b[0;32melse\u001b[0m\u001b[0;34m:\u001b[0m\u001b[0;34m\u001b[0m\u001b[0;34m\u001b[0m\u001b[0m\n",
      "\u001b[0;32m/var/folders/4v/rbg8qwl17tx8qjyp4z64cntc0000gn/T/ipykernel_40846/623903737.py\u001b[0m in \u001b[0;36manalyze\u001b[0;34m(net, inputs, eps, true_label)\u001b[0m\n\u001b[1;32m     40\u001b[0m                            eps=eps, true_label=true_label, verbose=verbose)\n\u001b[1;32m     41\u001b[0m \u001b[0;34m\u001b[0m\u001b[0m\n\u001b[0;32m---> 42\u001b[0;31m     \u001b[0mverifier\u001b[0m\u001b[0;34m.\u001b[0m\u001b[0mverify\u001b[0m\u001b[0;34m(\u001b[0m\u001b[0;34m)\u001b[0m\u001b[0;34m\u001b[0m\u001b[0;34m\u001b[0m\u001b[0m\n\u001b[0m\u001b[1;32m     43\u001b[0m \u001b[0;34m\u001b[0m\u001b[0m\n\u001b[1;32m     44\u001b[0m \u001b[0;34m\u001b[0m\u001b[0m\n",
      "\u001b[0;32m~/Library/Mobile Documents/com~apple~CloudDocs/ETH Zurich/MA1/RTAI/PROJECT/code/deeppoly.py\u001b[0m in \u001b[0;36mverify\u001b[0;34m(self)\u001b[0m\n\u001b[1;32m    347\u001b[0m             current_transformer = self.back_substitution(\n\u001b[1;32m    348\u001b[0m                 \u001b[0mtransformer\u001b[0m\u001b[0;34m=\u001b[0m\u001b[0mcurrent_transformer\u001b[0m\u001b[0;34m,\u001b[0m\u001b[0;34m\u001b[0m\u001b[0;34m\u001b[0m\u001b[0m\n\u001b[0;32m--> 349\u001b[0;31m                 \u001b[0mprevious_transformer\u001b[0m\u001b[0;34m=\u001b[0m\u001b[0mself\u001b[0m\u001b[0;34m.\u001b[0m\u001b[0mtransformers\u001b[0m\u001b[0;34m[\u001b[0m\u001b[0mi\u001b[0m\u001b[0;34m]\u001b[0m\u001b[0;34m\u001b[0m\u001b[0;34m\u001b[0m\u001b[0m\n\u001b[0m\u001b[1;32m    350\u001b[0m             )\n\u001b[1;32m    351\u001b[0m \u001b[0;34m\u001b[0m\u001b[0m\n",
      "\u001b[0;32m~/Library/Mobile Documents/com~apple~CloudDocs/ETH Zurich/MA1/RTAI/PROJECT/code/deeppoly.py\u001b[0m in \u001b[0;36mback_substitution\u001b[0;34m(self, transformer, previous_transformer)\u001b[0m\n\u001b[1;32m    422\u001b[0m             \u001b[0mlower_bias\u001b[0m\u001b[0;34m[\u001b[0m\u001b[0mneur\u001b[0m\u001b[0;34m]\u001b[0m \u001b[0;34m+=\u001b[0m \u001b[0mtransformer\u001b[0m\u001b[0;34m.\u001b[0m\u001b[0mlower_bias\u001b[0m\u001b[0;34m[\u001b[0m\u001b[0mneur\u001b[0m\u001b[0;34m]\u001b[0m\u001b[0;34m\u001b[0m\u001b[0;34m\u001b[0m\u001b[0m\n\u001b[1;32m    423\u001b[0m \u001b[0;34m\u001b[0m\u001b[0m\n\u001b[0;32m--> 424\u001b[0;31m             \u001b[0mlower_weights\u001b[0m\u001b[0;34m[\u001b[0m\u001b[0mneur\u001b[0m\u001b[0;34m]\u001b[0m \u001b[0;34m=\u001b[0m \u001b[0mtransformer\u001b[0m\u001b[0;34m.\u001b[0m\u001b[0mlower_weights\u001b[0m\u001b[0;34m[\u001b[0m\u001b[0mneur\u001b[0m\u001b[0;34m]\u001b[0m \u001b[0;34m@\u001b[0m \u001b[0mprevious_lower_tmp_weights\u001b[0m\u001b[0;34m\u001b[0m\u001b[0;34m\u001b[0m\u001b[0m\n\u001b[0m\u001b[1;32m    425\u001b[0m \u001b[0;34m\u001b[0m\u001b[0m\n\u001b[1;32m    426\u001b[0m             \u001b[0;31m# Upper transformer bound\u001b[0m\u001b[0;34m\u001b[0m\u001b[0;34m\u001b[0m\u001b[0;34m\u001b[0m\u001b[0m\n",
      "\u001b[0;31mValueError\u001b[0m: matmul: Input operand 1 has a mismatch in its core dimension 0, with gufunc signature (n?,k),(k,m?)->(n?,m?) (size 50 is different from 10)"
     ]
    }
   ],
   "source": [
    "import torch\n",
    "from networks import FullyConnected, SPU\n",
    "import numpy as np\n",
    "from itertools import product\n",
    "from lin_bounded_domain import LinearlyBoundedDomainVerifier\n",
    "from deeppoly import DeepPolyVerifier\n",
    "\n",
    "DEVICE = 'cpu'\n",
    "INPUT_SIZE = 28\n",
    "\n",
    "\n",
    "class Args:\n",
    "    net: str\n",
    "    spec: str\n",
    "\n",
    "    def __init__(self, net: str, spec: str):\n",
    "        self.net = net\n",
    "        self.spec = spec\n",
    "\n",
    "\n",
    "def analyze(net: torch.nn.Module, inputs: torch.FloatTensor, eps: float, true_label: int) -> str:\n",
    "    \"\"\"Returns \"verified\" if the returned label is the same for all points in a L-infinite epsilon-ball around an input point, and \"not verified\" otherwise.\n",
    "\n",
    "    Args:\n",
    "        net (torch.nn.Module): [description]\n",
    "        inputs (torch.FloatTensor): [description]\n",
    "        eps (float): [description]\n",
    "        true_label (int): [description]\n",
    "\n",
    "    Returns:\n",
    "        [str]: Returns \"verified\" or \"not verified\"\n",
    "    \"\"\"\n",
    "    verbose = True\n",
    "\n",
    "\n",
    "    print(f\"Network: {net}\")\n",
    "\n",
    "\n",
    "    verifier = DeepPolyVerifier(net=net, inputs=inputs,\n",
    "                           eps=eps, true_label=true_label, verbose=verbose)\n",
    "    \n",
    "    verifier.verify()\n",
    "\n",
    "\n",
    "args = Args(\n",
    "    net=\"net1_fc1\",\n",
    "    spec=\"../test_cases/net1_fc1/example_img0_0.07500.txt\"\n",
    ")\n",
    "\n",
    "with open(args.spec, 'r') as f:\n",
    "    lines = [line[:-1] for line in f.readlines()]\n",
    "    true_label = int(lines[0])\n",
    "    pixel_values = [float(line) for line in lines[1:]]\n",
    "    eps = float(args.spec[:-4].split('/')[-1].split('_')[-1])\n",
    "\n",
    "if args.net.endswith('fc1'):\n",
    "    net = FullyConnected(DEVICE, INPUT_SIZE, [50, 10]).to(DEVICE)\n",
    "\n",
    "elif args.net.endswith('fc2'):\n",
    "    net = FullyConnected(DEVICE, INPUT_SIZE, [100, 50, 10]).to(DEVICE)\n",
    "\n",
    "elif args.net.endswith('fc3'):\n",
    "    net = FullyConnected(DEVICE, INPUT_SIZE, [100, 100, 10]).to(DEVICE)\n",
    "\n",
    "elif args.net.endswith('fc4'):\n",
    "    net = FullyConnected(DEVICE, INPUT_SIZE, [100, 100, 50, 10]).to(DEVICE)\n",
    "\n",
    "elif args.net.endswith('fc5'):\n",
    "    net = FullyConnected(DEVICE, INPUT_SIZE, [\n",
    "        100, 100, 100, 100, 10]).to(DEVICE)\n",
    "else:\n",
    "    assert False\n",
    "\n",
    "net.load_state_dict(torch.load('../mnist_nets/%s.pt' %\n",
    "                    args.net, map_location=torch.device(DEVICE)))\n",
    "\n",
    "inputs = torch.FloatTensor(pixel_values).view(\n",
    "    1, 1, INPUT_SIZE, INPUT_SIZE).to(DEVICE)\n",
    "\n",
    "\n",
    "outs = net(inputs)\n",
    "pred_label = outs.max(dim=1)[1].item()\n",
    "assert pred_label == true_label\n",
    "\n",
    "\n",
    "if analyze(net, inputs, eps, true_label):\n",
    "    print('verified')\n",
    "else:\n",
    "    print('not verified')\n"
   ]
  },
  {
   "cell_type": "markdown",
   "metadata": {},
   "source": [
    "# TESTS"
   ]
  },
  {
   "cell_type": "code",
   "execution_count": 2,
   "metadata": {},
   "outputs": [],
   "source": [
    "layer_shape = (1,1,3,3)"
   ]
  },
  {
   "cell_type": "code",
   "execution_count": 5,
   "metadata": {},
   "outputs": [
    {
     "data": {
      "text/plain": [
       "array([0., 0., 0., 0., 0., 0., 0., 0., 0.])"
      ]
     },
     "execution_count": 5,
     "metadata": {},
     "output_type": "execute_result"
    }
   ],
   "source": [
    "[\n",
    "    [\n",
    "        [\n",
    "            [0., 0., 0.],\n",
    "            [0., 0., 0.],\n",
    "            [0., 0., 0.]\n",
    "        ]\n",
    "    ]\n",
    "]\n",
    "\n",
    "np.zeros(layer_shape).flatten()\n"
   ]
  },
  {
   "cell_type": "code",
   "execution_count": 7,
   "metadata": {},
   "outputs": [
    {
     "data": {
      "text/plain": [
       "([0, 0, 0, 0, 0, 0, 0, 0, 0, 0, 0, 0, 0, 0, 0, 0],\n",
       " [0, 0, 0, 0, 0, 0, 0, 0, 0, 0, 0, 0, 0, 0, 0, 0],\n",
       " [0, 0, 0, 0, 1, 1, 1, 1, 2, 2, 2, 2, 3, 3, 3, 3],\n",
       " [0, 1, 2, 3, 0, 1, 2, 3, 0, 1, 2, 3, 0, 1, 2, 3],\n",
       " [0, 0, 0, 0, 0, 0, 0, 0, 0, 0, 0, 0, 0, 0, 0, 0],\n",
       " [0, 0, 0, 0, 0, 0, 0, 0, 0, 0, 0, 0, 0, 0, 0, 0],\n",
       " [0, 0, 0, 0, 1, 1, 1, 1, 2, 2, 2, 2, 3, 3, 3, 3],\n",
       " [0, 1, 2, 3, 0, 1, 2, 3, 0, 1, 2, 3, 0, 1, 2, 3])"
      ]
     },
     "execution_count": 7,
     "metadata": {},
     "output_type": "execute_result"
    }
   ],
   "source": [
    "tuple(list(map(lambda x: list(x), zip(\n",
    "    *product(*map(range, layer_shape))))) * 2)\n"
   ]
  },
  {
   "cell_type": "code",
   "execution_count": 13,
   "metadata": {},
   "outputs": [],
   "source": [
    "indices = tuple(list(map(lambda x: list(x), zip(*product(*map(range, layer_shape))))))"
   ]
  },
  {
   "cell_type": "code",
   "execution_count": 14,
   "metadata": {},
   "outputs": [
    {
     "data": {
      "text/plain": [
       "array([[ 0,  1,  2,  3],\n",
       "       [ 4,  5,  6,  7],\n",
       "       [ 8,  9, 10, 11],\n",
       "       [12, 13, 14, 15]])"
      ]
     },
     "execution_count": 14,
     "metadata": {},
     "output_type": "execute_result"
    }
   ],
   "source": [
    "a = np.arange(16).reshape((4,4))\n",
    "a"
   ]
  },
  {
   "cell_type": "code",
   "execution_count": 17,
   "metadata": {},
   "outputs": [
    {
     "data": {
      "text/plain": [
       "array([[12, 13, 14, 15],\n",
       "       [ 8,  9, 10, 11],\n",
       "       [ 4,  5,  6,  7],\n",
       "       [ 0,  1,  2,  3]])"
      ]
     },
     "execution_count": 17,
     "metadata": {},
     "output_type": "execute_result"
    }
   ],
   "source": [
    "a[::-1]"
   ]
  },
  {
   "cell_type": "code",
   "execution_count": 3,
   "metadata": {},
   "outputs": [
    {
     "data": {
      "text/plain": [
       "[3, 2, 1]"
      ]
     },
     "execution_count": 3,
     "metadata": {},
     "output_type": "execute_result"
    }
   ],
   "source": [
    "a = [1,2,3,4]\n",
    "a[:-1][::-1]"
   ]
  },
  {
   "cell_type": "code",
   "execution_count": 14,
   "metadata": {},
   "outputs": [
    {
     "data": {
      "text/plain": [
       "array([[[[0.07662835, 0.        , 0.        , 0.        ],\n",
       "         [0.        , 0.07662835, 0.        , 0.        ],\n",
       "         [0.        , 0.        , 0.07662835, 0.        ],\n",
       "         [0.        , 0.        , 0.        , 0.07662835]]]])"
      ]
     },
     "execution_count": 14,
     "metadata": {},
     "output_type": "execute_result"
    }
   ],
   "source": [
    "np.eye(4).reshape((1,1,4,4)) / 13.05"
   ]
  },
  {
   "cell_type": "code",
   "execution_count": 8,
   "metadata": {},
   "outputs": [
    {
     "name": "stdout",
     "output_type": "stream",
     "text": [
      "a: [[1. 1.]\n",
      " [1. 1.]\n",
      " [1. 1.]\n",
      " [1. 1.]\n",
      " [1. 1.]]\n",
      "Shape of a: (5, 2)\n",
      "Shape of b: (5,)\n",
      "Shape of a + b: (5, 2)\n",
      "a + b: [[6. 6.]\n",
      " [6. 6.]\n",
      " [6. 6.]\n",
      " [6. 6.]\n",
      " [6. 6.]]\n"
     ]
    }
   ],
   "source": [
    "a = np.ones((5, 2))\n",
    "b = np.array([5, 5, 5, 5, 5])\n",
    "\n",
    "print(f\"a: {a}\")\n",
    "print(f\"Shape of a: {a.shape}\")\n",
    "print(f\"Shape of b: {b.shape}\")\n",
    "print(f\"Shape of a + b: {(a + b.reshape(-1,1)).shape}\")\n",
    "print(f\"a + b: {a + b.reshape(-1,1)}\")"
   ]
  },
  {
   "cell_type": "code",
   "execution_count": 7,
   "metadata": {},
   "outputs": [
    {
     "data": {
      "text/plain": [
       "array([[[[0., 0., 0., 0., 0.],\n",
       "         [0., 0., 0., 0., 0.],\n",
       "         [0., 0., 0., 0., 0.],\n",
       "         [0., 0., 0., 0., 0.],\n",
       "         [0., 0., 0., 0., 0.]]]])"
      ]
     },
     "execution_count": 7,
     "metadata": {},
     "output_type": "execute_result"
    }
   ],
   "source": [
    "a = np.zeros((1,1,5, 5))\n",
    "np.zeros((25,)).reshape((1,1,5,5))\n"
   ]
  },
  {
   "cell_type": "code",
   "execution_count": 2,
   "metadata": {},
   "outputs": [
    {
     "data": {
      "text/plain": [
       "(51, 51)"
      ]
     },
     "execution_count": 2,
     "metadata": {},
     "output_type": "execute_result"
    }
   ],
   "source": [
    "(51,) * 2"
   ]
  },
  {
   "cell_type": "code",
   "execution_count": 7,
   "metadata": {},
   "outputs": [
    {
     "data": {
      "text/plain": [
       "array([[[[[[[[0., 0.],\n",
       "             [0., 0.]]]],\n",
       "\n",
       "\n",
       "\n",
       "          [[[[0., 0.],\n",
       "             [0., 0.]]]]],\n",
       "\n",
       "\n",
       "\n",
       "\n",
       "         [[[[[0., 0.],\n",
       "             [0., 0.]]]],\n",
       "\n",
       "\n",
       "\n",
       "          [[[[0., 0.],\n",
       "             [0., 0.]]]]]]]])"
      ]
     },
     "execution_count": 7,
     "metadata": {},
     "output_type": "execute_result"
    }
   ],
   "source": [
    "np.zeros((4,4)).reshape((1,1,2,2,1,1,2,2))"
   ]
  },
  {
   "cell_type": "code",
   "execution_count": 5,
   "metadata": {},
   "outputs": [
    {
     "data": {
      "text/plain": [
       "(1, 1, 28, 28)"
      ]
     },
     "execution_count": 5,
     "metadata": {},
     "output_type": "execute_result"
    }
   ],
   "source": [
    "shape = (1, 1, 28, 28) * 2\n",
    "shape[4:]\n"
   ]
  },
  {
   "cell_type": "code",
   "execution_count": 3,
   "metadata": {},
   "outputs": [
    {
     "data": {
      "text/plain": [
       "(784,)"
      ]
     },
     "execution_count": 3,
     "metadata": {},
     "output_type": "execute_result"
    }
   ],
   "source": [
    "(shape[2] ** 2,)"
   ]
  },
  {
   "cell_type": "markdown",
   "metadata": {},
   "source": [
    "# `DeepPoly` test"
   ]
  },
  {
   "cell_type": "code",
   "execution_count": null,
   "metadata": {},
   "outputs": [],
   "source": [
    "l1 = torch.nn.Linear(2, 2, device='cpu')\n",
    "l1.weight = torch.Tensor([[1, 1], [1, -1]])\n",
    "l1.bias = torch.Tensor([0, 0])\n",
    "\n",
    "l2 = torch.nn.Linear(2, 2, device='cpu')\n",
    "l2.weight = torch.Tensor([[1, 1], [1, -1]])\n",
    "l2.bias = torch.Tensor([-0.5, 0])\n",
    "\n",
    "l3 = torch.nn.Linear(2, 2, device='cpu')\n",
    "l3.weight = torch.Tensor([[-1, 1], [0, 1]])\n",
    "l3.bias = torch.Tensor([3, 0])\n",
    "\n",
    "net = torch.nn.Sequential(l1, SPU, l2, SPU, l3, device='cpu')\n",
    "\n",
    "\n",
    "input = torch.Tensor([0, 0])\n",
    "eps = 1\n",
    "\n",
    "verifier = DeepPolyVerifier(net=net, inputs=input, eps=eps, true_label=0)\n",
    "verifier.verify()\n",
    "\n"
   ]
  },
  {
   "cell_type": "code",
   "execution_count": 3,
   "metadata": {},
   "outputs": [],
   "source": []
  },
  {
   "cell_type": "code",
   "execution_count": 2,
   "metadata": {},
   "outputs": [
    {
     "data": {
      "text/plain": [
       "array([[1.],\n",
       "       [1.],\n",
       "       [1.],\n",
       "       [1.],\n",
       "       [1.]])"
      ]
     },
     "execution_count": 2,
     "metadata": {},
     "output_type": "execute_result"
    }
   ],
   "source": [
    "a = np.ones((5,1))\n",
    "a"
   ]
  },
  {
   "cell_type": "code",
   "execution_count": 3,
   "metadata": {},
   "outputs": [
    {
     "ename": "IndexError",
     "evalue": "index 3 is out of bounds for axis 1 with size 1",
     "output_type": "error",
     "traceback": [
      "\u001b[0;31m---------------------------------------------------------------------------\u001b[0m",
      "\u001b[0;31mIndexError\u001b[0m                                Traceback (most recent call last)",
      "\u001b[0;32m/var/folders/4v/rbg8qwl17tx8qjyp4z64cntc0000gn/T/ipykernel_40515/1111402958.py\u001b[0m in \u001b[0;36m<module>\u001b[0;34m\u001b[0m\n\u001b[0;32m----> 1\u001b[0;31m \u001b[0ma\u001b[0m\u001b[0;34m[\u001b[0m\u001b[0;34m:\u001b[0m\u001b[0;34m,\u001b[0m \u001b[0;36m3\u001b[0m\u001b[0;34m]\u001b[0m\u001b[0;34m\u001b[0m\u001b[0;34m\u001b[0m\u001b[0m\n\u001b[0m",
      "\u001b[0;31mIndexError\u001b[0m: index 3 is out of bounds for axis 1 with size 1"
     ]
    }
   ],
   "source": [
    "a[:, 3]"
   ]
  },
  {
   "cell_type": "code",
   "execution_count": null,
   "metadata": {},
   "outputs": [],
   "source": []
  }
 ],
 "metadata": {
  "interpreter": {
   "hash": "39d7dbb437d063c754c82cf8e6b839566e777d8b07cf6ccd9b0451f2a2b8e0f1"
  },
  "kernelspec": {
   "display_name": "Python 3.7.11 64-bit ('deeppoly': conda)",
   "language": "python",
   "name": "python3"
  },
  "language_info": {
   "codemirror_mode": {
    "name": "ipython",
    "version": 3
   },
   "file_extension": ".py",
   "mimetype": "text/x-python",
   "name": "python",
   "nbconvert_exporter": "python",
   "pygments_lexer": "ipython3",
   "version": "3.7.11"
  },
  "orig_nbformat": 4
 },
 "nbformat": 4,
 "nbformat_minor": 2
}
