{
 "cells": [
  {
   "cell_type": "code",
   "execution_count": 2,
   "metadata": {},
   "outputs": [
    {
     "ename": "AssertionError",
     "evalue": "Error with the box bounds: low>high",
     "output_type": "error",
     "traceback": [
      "\u001b[0;31m---------------------------------------------------------------------------\u001b[0m",
      "\u001b[0;31mAssertionError\u001b[0m                            Traceback (most recent call last)",
      "\u001b[0;32m/var/folders/4v/rbg8qwl17tx8qjyp4z64cntc0000gn/T/ipykernel_64899/582649164.py\u001b[0m in \u001b[0;36m<module>\u001b[0;34m\u001b[0m\n\u001b[1;32m    125\u001b[0m \u001b[0mdeeppoly_verifier\u001b[0m\u001b[0;34m.\u001b[0m\u001b[0mload_weights\u001b[0m\u001b[0;34m(\u001b[0m\u001b[0mnet\u001b[0m\u001b[0;34m=\u001b[0m\u001b[0mnet\u001b[0m\u001b[0;34m)\u001b[0m\u001b[0;34m\u001b[0m\u001b[0;34m\u001b[0m\u001b[0m\n\u001b[1;32m    126\u001b[0m \u001b[0;34m\u001b[0m\u001b[0m\n\u001b[0;32m--> 127\u001b[0;31m \u001b[0;32mif\u001b[0m \u001b[0manalyze\u001b[0m\u001b[0;34m(\u001b[0m\u001b[0mdeeppoly_verifier\u001b[0m\u001b[0;34m,\u001b[0m \u001b[0minputs\u001b[0m\u001b[0;34m,\u001b[0m \u001b[0meps\u001b[0m\u001b[0;34m,\u001b[0m \u001b[0mtrue_label\u001b[0m\u001b[0;34m)\u001b[0m\u001b[0;34m:\u001b[0m\u001b[0;34m\u001b[0m\u001b[0;34m\u001b[0m\u001b[0m\n\u001b[0m\u001b[1;32m    128\u001b[0m     \u001b[0mprint\u001b[0m\u001b[0;34m(\u001b[0m\u001b[0;34m'verified'\u001b[0m\u001b[0;34m)\u001b[0m\u001b[0;34m\u001b[0m\u001b[0;34m\u001b[0m\u001b[0m\n\u001b[1;32m    129\u001b[0m \u001b[0;32melse\u001b[0m\u001b[0;34m:\u001b[0m\u001b[0;34m\u001b[0m\u001b[0;34m\u001b[0m\u001b[0m\n",
      "\u001b[0;32m/var/folders/4v/rbg8qwl17tx8qjyp4z64cntc0000gn/T/ipykernel_64899/582649164.py\u001b[0m in \u001b[0;36manalyze\u001b[0;34m(net, inputs, eps, true_label)\u001b[0m\n\u001b[1;32m     46\u001b[0m \u001b[0;34m\u001b[0m\u001b[0m\n\u001b[1;32m     47\u001b[0m     \u001b[0;32mwith\u001b[0m \u001b[0mtorch\u001b[0m\u001b[0;34m.\u001b[0m\u001b[0mno_grad\u001b[0m\u001b[0;34m(\u001b[0m\u001b[0;34m)\u001b[0m\u001b[0;34m:\u001b[0m\u001b[0;34m\u001b[0m\u001b[0;34m\u001b[0m\u001b[0m\n\u001b[0;32m---> 48\u001b[0;31m         \u001b[0mout\u001b[0m\u001b[0;34m,\u001b[0m \u001b[0mlower_bounds\u001b[0m\u001b[0;34m,\u001b[0m \u001b[0mupper_bounds\u001b[0m \u001b[0;34m=\u001b[0m \u001b[0mnet\u001b[0m\u001b[0;34m(\u001b[0m\u001b[0minputs\u001b[0m\u001b[0;34m,\u001b[0m \u001b[0minitial_lower_bounds\u001b[0m\u001b[0;34m,\u001b[0m \u001b[0minitial_upper_bounds\u001b[0m\u001b[0;34m)\u001b[0m\u001b[0;34m\u001b[0m\u001b[0;34m\u001b[0m\u001b[0m\n\u001b[0m\u001b[1;32m     49\u001b[0m     \u001b[0mpred_label\u001b[0m \u001b[0;34m=\u001b[0m \u001b[0mout\u001b[0m\u001b[0;34m.\u001b[0m\u001b[0mmax\u001b[0m\u001b[0;34m(\u001b[0m\u001b[0mdim\u001b[0m\u001b[0;34m=\u001b[0m\u001b[0;36m0\u001b[0m\u001b[0;34m)\u001b[0m\u001b[0;34m[\u001b[0m\u001b[0;36m1\u001b[0m\u001b[0;34m]\u001b[0m\u001b[0;34m.\u001b[0m\u001b[0mitem\u001b[0m\u001b[0;34m(\u001b[0m\u001b[0;34m)\u001b[0m\u001b[0;34m\u001b[0m\u001b[0;34m\u001b[0m\u001b[0m\n\u001b[1;32m     50\u001b[0m     \u001b[0;32massert\u001b[0m \u001b[0mpred_label\u001b[0m \u001b[0;34m==\u001b[0m \u001b[0mtrue_label\u001b[0m\u001b[0;34m\u001b[0m\u001b[0;34m\u001b[0m\u001b[0m\n",
      "\u001b[0;32m/opt/miniconda3/envs/deeppoly/lib/python3.7/site-packages/torch/nn/modules/module.py\u001b[0m in \u001b[0;36m_call_impl\u001b[0;34m(self, *input, **kwargs)\u001b[0m\n\u001b[1;32m   1100\u001b[0m         if not (self._backward_hooks or self._forward_hooks or self._forward_pre_hooks or _global_backward_hooks\n\u001b[1;32m   1101\u001b[0m                 or _global_forward_hooks or _global_forward_pre_hooks):\n\u001b[0;32m-> 1102\u001b[0;31m             \u001b[0;32mreturn\u001b[0m \u001b[0mforward_call\u001b[0m\u001b[0;34m(\u001b[0m\u001b[0;34m*\u001b[0m\u001b[0minput\u001b[0m\u001b[0;34m,\u001b[0m \u001b[0;34m**\u001b[0m\u001b[0mkwargs\u001b[0m\u001b[0;34m)\u001b[0m\u001b[0;34m\u001b[0m\u001b[0;34m\u001b[0m\u001b[0m\n\u001b[0m\u001b[1;32m   1103\u001b[0m         \u001b[0;31m# Do not call functions when jit is used\u001b[0m\u001b[0;34m\u001b[0m\u001b[0;34m\u001b[0m\u001b[0;34m\u001b[0m\u001b[0m\n\u001b[1;32m   1104\u001b[0m         \u001b[0mfull_backward_hooks\u001b[0m\u001b[0;34m,\u001b[0m \u001b[0mnon_full_backward_hooks\u001b[0m \u001b[0;34m=\u001b[0m \u001b[0;34m[\u001b[0m\u001b[0;34m]\u001b[0m\u001b[0;34m,\u001b[0m \u001b[0;34m[\u001b[0m\u001b[0;34m]\u001b[0m\u001b[0;34m\u001b[0m\u001b[0;34m\u001b[0m\u001b[0m\n",
      "\u001b[0;32m~/Library/Mobile Documents/com~apple~CloudDocs/ETH Zurich/MA1/RTAI/PROJECT/code/deeppoly_torch.py\u001b[0m in \u001b[0;36mforward\u001b[0;34m(self, x, lower_bounds, upper_bounds)\u001b[0m\n\u001b[1;32m    249\u001b[0m \u001b[0;34m\u001b[0m\u001b[0m\n\u001b[1;32m    250\u001b[0m             x, lower_bounds, upper_bounds = layer(\n\u001b[0;32m--> 251\u001b[0;31m                 x, lower_bounds, upper_bounds)\n\u001b[0m\u001b[1;32m    252\u001b[0m \u001b[0;34m\u001b[0m\u001b[0m\n\u001b[1;32m    253\u001b[0m             \u001b[0;32mif\u001b[0m \u001b[0mtype\u001b[0m\u001b[0;34m(\u001b[0m\u001b[0mlayer\u001b[0m\u001b[0;34m)\u001b[0m \u001b[0;34m==\u001b[0m \u001b[0mDeepPolyLinearTransformer\u001b[0m\u001b[0;34m:\u001b[0m\u001b[0;34m\u001b[0m\u001b[0;34m\u001b[0m\u001b[0m\n",
      "\u001b[0;32m/opt/miniconda3/envs/deeppoly/lib/python3.7/site-packages/torch/nn/modules/module.py\u001b[0m in \u001b[0;36m_call_impl\u001b[0;34m(self, *input, **kwargs)\u001b[0m\n\u001b[1;32m   1100\u001b[0m         if not (self._backward_hooks or self._forward_hooks or self._forward_pre_hooks or _global_backward_hooks\n\u001b[1;32m   1101\u001b[0m                 or _global_forward_hooks or _global_forward_pre_hooks):\n\u001b[0;32m-> 1102\u001b[0;31m             \u001b[0;32mreturn\u001b[0m \u001b[0mforward_call\u001b[0m\u001b[0;34m(\u001b[0m\u001b[0;34m*\u001b[0m\u001b[0minput\u001b[0m\u001b[0;34m,\u001b[0m \u001b[0;34m**\u001b[0m\u001b[0mkwargs\u001b[0m\u001b[0;34m)\u001b[0m\u001b[0;34m\u001b[0m\u001b[0;34m\u001b[0m\u001b[0m\n\u001b[0m\u001b[1;32m   1103\u001b[0m         \u001b[0;31m# Do not call functions when jit is used\u001b[0m\u001b[0;34m\u001b[0m\u001b[0;34m\u001b[0m\u001b[0;34m\u001b[0m\u001b[0m\n\u001b[1;32m   1104\u001b[0m         \u001b[0mfull_backward_hooks\u001b[0m\u001b[0;34m,\u001b[0m \u001b[0mnon_full_backward_hooks\u001b[0m \u001b[0;34m=\u001b[0m \u001b[0;34m[\u001b[0m\u001b[0;34m]\u001b[0m\u001b[0;34m,\u001b[0m \u001b[0;34m[\u001b[0m\u001b[0;34m]\u001b[0m\u001b[0;34m\u001b[0m\u001b[0;34m\u001b[0m\u001b[0m\n",
      "\u001b[0;32m~/Library/Mobile Documents/com~apple~CloudDocs/ETH Zurich/MA1/RTAI/PROJECT/code/deeppoly_torch.py\u001b[0m in \u001b[0;36mforward\u001b[0;34m(self, x, lower_bounds, upper_bounds)\u001b[0m\n\u001b[1;32m     66\u001b[0m             \u001b[0mbias\u001b[0m\u001b[0;34m=\u001b[0m\u001b[0mbias\u001b[0m\u001b[0;34m,\u001b[0m\u001b[0;34m\u001b[0m\u001b[0;34m\u001b[0m\u001b[0m\n\u001b[1;32m     67\u001b[0m             \u001b[0mlower_bounds\u001b[0m\u001b[0;34m=\u001b[0m\u001b[0mlower_bounds\u001b[0m\u001b[0;34m,\u001b[0m\u001b[0;34m\u001b[0m\u001b[0;34m\u001b[0m\u001b[0m\n\u001b[0;32m---> 68\u001b[0;31m             \u001b[0mupper_bounds\u001b[0m\u001b[0;34m=\u001b[0m\u001b[0mupper_bounds\u001b[0m\u001b[0;34m,\u001b[0m\u001b[0;34m\u001b[0m\u001b[0;34m\u001b[0m\u001b[0m\n\u001b[0m\u001b[1;32m     69\u001b[0m         )\n\u001b[1;32m     70\u001b[0m \u001b[0;34m\u001b[0m\u001b[0m\n",
      "\u001b[0;32m~/Library/Mobile Documents/com~apple~CloudDocs/ETH Zurich/MA1/RTAI/PROJECT/code/deeppoly_torch.py\u001b[0m in \u001b[0;36mtransform_domain\u001b[0;34m(weights, bias, lower_bounds, upper_bounds)\u001b[0m\n\u001b[1;32m     44\u001b[0m         \u001b[0;31m# quick check here\u001b[0m\u001b[0;34m\u001b[0m\u001b[0;34m\u001b[0m\u001b[0;34m\u001b[0m\u001b[0m\n\u001b[1;32m     45\u001b[0m         assert (new_lower_bounds <= new_upper_bounds).all(\n\u001b[0;32m---> 46\u001b[0;31m         ), \"Error with the box bounds: low>high\"\n\u001b[0m\u001b[1;32m     47\u001b[0m \u001b[0;34m\u001b[0m\u001b[0m\n\u001b[1;32m     48\u001b[0m         \u001b[0;32mreturn\u001b[0m \u001b[0mnew_lower_bounds\u001b[0m\u001b[0;34m,\u001b[0m \u001b[0mnew_upper_bounds\u001b[0m\u001b[0;34m\u001b[0m\u001b[0;34m\u001b[0m\u001b[0m\n",
      "\u001b[0;31mAssertionError\u001b[0m: Error with the box bounds: low>high"
     ]
    }
   ],
   "source": [
    "import torch\n",
    "from networks import FullyConnected, SPU\n",
    "import numpy as np\n",
    "from time import time\n",
    "from itertools import product\n",
    "from deeppoly_torch import DeepPolyVerifierTorch\n",
    "\n",
    "DEVICE = \"cpu\"\n",
    "INPUT_SIZE = 28\n",
    "\n",
    "VERBOSE = False\n",
    "\n",
    "class Args:\n",
    "    net: str\n",
    "    spec: str\n",
    "\n",
    "    def __init__(self, net: str, spec: str):\n",
    "        self.net = net\n",
    "        self.spec = spec\n",
    "\n",
    "\n",
    "def analyze(net: DeepPolyVerifierTorch, inputs: torch.FloatTensor, eps: float, true_label: int) -> str:\n",
    "    \"\"\"Returns \"verified\" if the returned label is the same for all points in a L-infinite epsilon-ball around an input point, and \"not verified\" otherwise.\n",
    "\n",
    "    Args:\n",
    "        net (torch.nn.Module): [description]\n",
    "        inputs (torch.FloatTensor): [description]\n",
    "        eps (float): [description]\n",
    "        true_label (int): [description]\n",
    "\n",
    "    Returns:\n",
    "        [str]: Returns \"verified\" or \"not verified\"\n",
    "    \"\"\"\n",
    "    start = time()\n",
    "\n",
    "    \"\"\"\n",
    "    1. Transform initial input\n",
    "    \"\"\"\n",
    "    initial_lower_bounds = torch.max(inputs - eps, torch.tensor(0.0)).to(DEVICE)\n",
    "    initial_upper_bounds = torch.min(inputs + eps, torch.tensor(1.0)).to(DEVICE)\n",
    "\n",
    "    \"\"\"\n",
    "    2. Propagate the domain through the network\n",
    "    \"\"\"\n",
    "\n",
    "    with torch.no_grad():\n",
    "        out, lower_bounds, upper_bounds = net(inputs, initial_lower_bounds, initial_upper_bounds)\n",
    "    pred_label = out.max(dim=0)[1].item()\n",
    "    assert pred_label == true_label\n",
    "\n",
    "    \"\"\"\n",
    "    3. Verify\n",
    "    \"\"\"\n",
    "    verified = sum((lower_bounds[true_label] > upper_bounds).int()) == 9\n",
    "\n",
    "    end = time()\n",
    "\n",
    "    print(f\"Propagation done in {round(end - start, 3)}!\")\n",
    "\n",
    "    if verified:\n",
    "        return verified\n",
    "    \n",
    "    \"\"\"\n",
    "    4. Backsubstitution if not verified by simple forward propagation\n",
    "    \"\"\"\n",
    "    order = None\n",
    "    with torch.no_grad():\n",
    "        lower_bounds, upper_bounds = net.backsubstitute(true_label=true_label, order=order)\n",
    "    \n",
    "    verified = (lower_bounds.detach().numpy() > 0).all()\n",
    "    end = time()\n",
    "\n",
    "    print(f\"Backsubstitution done in {round(end - start, 3)}!\")\n",
    "\n",
    "    return verified\n",
    "\n",
    "\n",
    "args = Args(\n",
    "    net=\"net0_fc2\",\n",
    "    spec=\"../test_cases/net0_fc2/example_img1_0.08300.txt\"\n",
    ")\n",
    "\n",
    "with open(args.spec, 'r') as f:\n",
    "    lines = [line[:-1] for line in f.readlines()]\n",
    "    true_label = int(lines[0])\n",
    "    pixel_values = [float(line) for line in lines[1:]]\n",
    "    eps = float(args.spec[:-4].split('/')[-1].split('_')[-1])\n",
    "\n",
    "if args.net.endswith('fc1'):\n",
    "        net = FullyConnected(DEVICE, INPUT_SIZE, [50, 10]).to(DEVICE)\n",
    "        deeppoly_verifier = DeepPolyVerifierTorch(\n",
    "            DEVICE, INPUT_SIZE, [50, 10], verbose=VERBOSE).to(DEVICE)\n",
    "elif args.net.endswith('fc2'):\n",
    "    net = FullyConnected(DEVICE, INPUT_SIZE, [100, 50, 10]).to(DEVICE)\n",
    "    deeppoly_verifier = DeepPolyVerifierTorch(\n",
    "        DEVICE, INPUT_SIZE, [100, 50, 10], verbose=VERBOSE).to(DEVICE)\n",
    "elif args.net.endswith('fc3'):\n",
    "    net = FullyConnected(DEVICE, INPUT_SIZE, [100, 100, 10]).to(DEVICE)\n",
    "    deeppoly_verifier = DeepPolyVerifierTorch(\n",
    "        DEVICE, INPUT_SIZE, [100, 100, 10], verbose=VERBOSE).to(DEVICE)\n",
    "elif args.net.endswith('fc4'):\n",
    "    net = FullyConnected(DEVICE, INPUT_SIZE, [100, 100, 50, 10]).to(DEVICE)\n",
    "    deeppoly_verifier = DeepPolyVerifierTorch(\n",
    "        DEVICE, INPUT_SIZE, [100, 100, 50, 10], verbose=VERBOSE).to(DEVICE)\n",
    "elif args.net.endswith('fc5'):\n",
    "    net = FullyConnected(DEVICE, INPUT_SIZE, [\n",
    "                            100, 100, 100, 100, 10]).to(DEVICE)\n",
    "    deeppoly_verifier = DeepPolyVerifierTorch(DEVICE, INPUT_SIZE, [\n",
    "        100, 100, 100, 100, 10], verbose=VERBOSE).to(DEVICE)\n",
    "else:\n",
    "    assert False\n",
    "\n",
    "net.load_state_dict(torch.load('../mnist_nets/%s.pt' %\n",
    "                    args.net, map_location=torch.device(DEVICE)))\n",
    "\n",
    "inputs = torch.FloatTensor(pixel_values).view(\n",
    "    1, 1, INPUT_SIZE, INPUT_SIZE).to(DEVICE)\n",
    "\n",
    "\n",
    "outs = net(inputs)\n",
    "pred_label = outs.max(dim=1)[1].item()\n",
    "assert pred_label == true_label\n",
    "\n",
    "deeppoly_verifier.load_weights(net=net)\n",
    "\n",
    "if analyze(deeppoly_verifier, inputs, eps, true_label):\n",
    "    print('verified')\n",
    "else:\n",
    "    print('not verified')\n"
   ]
  },
  {
   "cell_type": "markdown",
   "metadata": {},
   "source": [
    "# TESTS"
   ]
  },
  {
   "cell_type": "code",
   "execution_count": 1,
   "metadata": {},
   "outputs": [],
   "source": [
    "layer_shape = (1,1,3,3)"
   ]
  },
  {
   "cell_type": "code",
   "execution_count": 5,
   "metadata": {},
   "outputs": [
    {
     "data": {
      "text/plain": [
       "array([0., 0., 0., 0., 0., 0., 0., 0., 0.])"
      ]
     },
     "execution_count": 5,
     "metadata": {},
     "output_type": "execute_result"
    }
   ],
   "source": [
    "[\n",
    "    [\n",
    "        [\n",
    "            [0., 0., 0.],\n",
    "            [0., 0., 0.],\n",
    "            [0., 0., 0.]\n",
    "        ]\n",
    "    ]\n",
    "]\n",
    "\n",
    "np.zeros(layer_shape).flatten()\n"
   ]
  },
  {
   "cell_type": "code",
   "execution_count": 7,
   "metadata": {},
   "outputs": [
    {
     "data": {
      "text/plain": [
       "([0, 0, 0, 0, 0, 0, 0, 0, 0, 0, 0, 0, 0, 0, 0, 0],\n",
       " [0, 0, 0, 0, 0, 0, 0, 0, 0, 0, 0, 0, 0, 0, 0, 0],\n",
       " [0, 0, 0, 0, 1, 1, 1, 1, 2, 2, 2, 2, 3, 3, 3, 3],\n",
       " [0, 1, 2, 3, 0, 1, 2, 3, 0, 1, 2, 3, 0, 1, 2, 3],\n",
       " [0, 0, 0, 0, 0, 0, 0, 0, 0, 0, 0, 0, 0, 0, 0, 0],\n",
       " [0, 0, 0, 0, 0, 0, 0, 0, 0, 0, 0, 0, 0, 0, 0, 0],\n",
       " [0, 0, 0, 0, 1, 1, 1, 1, 2, 2, 2, 2, 3, 3, 3, 3],\n",
       " [0, 1, 2, 3, 0, 1, 2, 3, 0, 1, 2, 3, 0, 1, 2, 3])"
      ]
     },
     "execution_count": 7,
     "metadata": {},
     "output_type": "execute_result"
    }
   ],
   "source": [
    "tuple(list(map(lambda x: list(x), zip(\n",
    "    *product(*map(range, layer_shape))))) * 2)\n"
   ]
  },
  {
   "cell_type": "code",
   "execution_count": 13,
   "metadata": {},
   "outputs": [],
   "source": [
    "indices = tuple(list(map(lambda x: list(x), zip(*product(*map(range, layer_shape))))))"
   ]
  },
  {
   "cell_type": "code",
   "execution_count": 14,
   "metadata": {},
   "outputs": [
    {
     "data": {
      "text/plain": [
       "array([[ 0,  1,  2,  3],\n",
       "       [ 4,  5,  6,  7],\n",
       "       [ 8,  9, 10, 11],\n",
       "       [12, 13, 14, 15]])"
      ]
     },
     "execution_count": 14,
     "metadata": {},
     "output_type": "execute_result"
    }
   ],
   "source": [
    "a = np.arange(16).reshape((4,4))\n",
    "a"
   ]
  },
  {
   "cell_type": "code",
   "execution_count": 17,
   "metadata": {},
   "outputs": [
    {
     "data": {
      "text/plain": [
       "array([[12, 13, 14, 15],\n",
       "       [ 8,  9, 10, 11],\n",
       "       [ 4,  5,  6,  7],\n",
       "       [ 0,  1,  2,  3]])"
      ]
     },
     "execution_count": 17,
     "metadata": {},
     "output_type": "execute_result"
    }
   ],
   "source": [
    "a[::-1]"
   ]
  },
  {
   "cell_type": "code",
   "execution_count": 3,
   "metadata": {},
   "outputs": [
    {
     "data": {
      "text/plain": [
       "[3, 2, 1]"
      ]
     },
     "execution_count": 3,
     "metadata": {},
     "output_type": "execute_result"
    }
   ],
   "source": [
    "a = [1,2,3,4]\n",
    "a[:-1][::-1]"
   ]
  },
  {
   "cell_type": "code",
   "execution_count": 14,
   "metadata": {},
   "outputs": [
    {
     "data": {
      "text/plain": [
       "array([[[[0.07662835, 0.        , 0.        , 0.        ],\n",
       "         [0.        , 0.07662835, 0.        , 0.        ],\n",
       "         [0.        , 0.        , 0.07662835, 0.        ],\n",
       "         [0.        , 0.        , 0.        , 0.07662835]]]])"
      ]
     },
     "execution_count": 14,
     "metadata": {},
     "output_type": "execute_result"
    }
   ],
   "source": [
    "np.eye(4).reshape((1,1,4,4)) / 13.05"
   ]
  },
  {
   "cell_type": "code",
   "execution_count": 8,
   "metadata": {},
   "outputs": [
    {
     "name": "stdout",
     "output_type": "stream",
     "text": [
      "a: [[1. 1.]\n",
      " [1. 1.]\n",
      " [1. 1.]\n",
      " [1. 1.]\n",
      " [1. 1.]]\n",
      "Shape of a: (5, 2)\n",
      "Shape of b: (5,)\n",
      "Shape of a + b: (5, 2)\n",
      "a + b: [[6. 6.]\n",
      " [6. 6.]\n",
      " [6. 6.]\n",
      " [6. 6.]\n",
      " [6. 6.]]\n"
     ]
    }
   ],
   "source": [
    "a = np.ones((5, 2))\n",
    "b = np.array([5, 5, 5, 5, 5])\n",
    "\n",
    "print(f\"a: {a}\")\n",
    "print(f\"Shape of a: {a.shape}\")\n",
    "print(f\"Shape of b: {b.shape}\")\n",
    "print(f\"Shape of a + b: {(a + b.reshape(-1,1)).shape}\")\n",
    "print(f\"a + b: {a + b.reshape(-1,1)}\")"
   ]
  },
  {
   "cell_type": "code",
   "execution_count": 7,
   "metadata": {},
   "outputs": [
    {
     "data": {
      "text/plain": [
       "array([[[[0., 0., 0., 0., 0.],\n",
       "         [0., 0., 0., 0., 0.],\n",
       "         [0., 0., 0., 0., 0.],\n",
       "         [0., 0., 0., 0., 0.],\n",
       "         [0., 0., 0., 0., 0.]]]])"
      ]
     },
     "execution_count": 7,
     "metadata": {},
     "output_type": "execute_result"
    }
   ],
   "source": [
    "a = np.zeros((1,1,5, 5))\n",
    "np.zeros((25,)).reshape((1,1,5,5))\n"
   ]
  },
  {
   "cell_type": "code",
   "execution_count": null,
   "metadata": {},
   "outputs": [],
   "source": []
  },
  {
   "cell_type": "code",
   "execution_count": 2,
   "metadata": {},
   "outputs": [
    {
     "data": {
      "text/plain": [
       "[1, 2]"
      ]
     },
     "execution_count": 2,
     "metadata": {},
     "output_type": "execute_result"
    }
   ],
   "source": [
    "[1,2,3][:-1]"
   ]
  },
  {
   "cell_type": "code",
   "execution_count": 7,
   "metadata": {},
   "outputs": [
    {
     "data": {
      "text/plain": [
       "array([[[[[[[[0., 0.],\n",
       "             [0., 0.]]]],\n",
       "\n",
       "\n",
       "\n",
       "          [[[[0., 0.],\n",
       "             [0., 0.]]]]],\n",
       "\n",
       "\n",
       "\n",
       "\n",
       "         [[[[[0., 0.],\n",
       "             [0., 0.]]]],\n",
       "\n",
       "\n",
       "\n",
       "          [[[[0., 0.],\n",
       "             [0., 0.]]]]]]]])"
      ]
     },
     "execution_count": 7,
     "metadata": {},
     "output_type": "execute_result"
    }
   ],
   "source": [
    "np.zeros((4,4)).reshape((1,1,2,2,1,1,2,2))"
   ]
  },
  {
   "cell_type": "code",
   "execution_count": 5,
   "metadata": {},
   "outputs": [
    {
     "data": {
      "text/plain": [
       "(1, 1, 28, 28)"
      ]
     },
     "execution_count": 5,
     "metadata": {},
     "output_type": "execute_result"
    }
   ],
   "source": [
    "shape = (1, 1, 28, 28) * 2\n",
    "shape[4:]\n"
   ]
  },
  {
   "cell_type": "code",
   "execution_count": 3,
   "metadata": {},
   "outputs": [
    {
     "data": {
      "text/plain": [
       "(784,)"
      ]
     },
     "execution_count": 3,
     "metadata": {},
     "output_type": "execute_result"
    }
   ],
   "source": [
    "(shape[2] ** 2,)"
   ]
  },
  {
   "cell_type": "markdown",
   "metadata": {},
   "source": [
    "# `DeepPoly` test"
   ]
  },
  {
   "cell_type": "code",
   "execution_count": null,
   "metadata": {},
   "outputs": [],
   "source": [
    "l1 = torch.nn.Linear(2, 2, device='cpu')\n",
    "l1.weight = torch.Tensor([[1, 1], [1, -1]])\n",
    "l1.bias = torch.Tensor([0, 0])\n",
    "\n",
    "l2 = torch.nn.Linear(2, 2, device='cpu')\n",
    "l2.weight = torch.Tensor([[1, 1], [1, -1]])\n",
    "l2.bias = torch.Tensor([-0.5, 0])\n",
    "\n",
    "l3 = torch.nn.Linear(2, 2, device='cpu')\n",
    "l3.weight = torch.Tensor([[-1, 1], [0, 1]])\n",
    "l3.bias = torch.Tensor([3, 0])\n",
    "\n",
    "net = torch.nn.Sequential(l1, SPU, l2, SPU, l3, device='cpu')\n",
    "\n",
    "\n",
    "input = torch.Tensor([0, 0])\n",
    "eps = 1\n",
    "\n",
    "verifier = DeepPolyVerifierTorch(net=net, inputs=input, eps=eps, true_label=0)\n",
    "verifier.verify()\n",
    "\n"
   ]
  },
  {
   "cell_type": "code",
   "execution_count": 3,
   "metadata": {},
   "outputs": [],
   "source": []
  },
  {
   "cell_type": "code",
   "execution_count": 2,
   "metadata": {},
   "outputs": [
    {
     "data": {
      "text/plain": [
       "array([[1.],\n",
       "       [1.],\n",
       "       [1.],\n",
       "       [1.],\n",
       "       [1.]])"
      ]
     },
     "execution_count": 2,
     "metadata": {},
     "output_type": "execute_result"
    }
   ],
   "source": [
    "a = np.ones((5,1))\n",
    "a"
   ]
  },
  {
   "cell_type": "code",
   "execution_count": 3,
   "metadata": {},
   "outputs": [
    {
     "ename": "IndexError",
     "evalue": "index 3 is out of bounds for axis 1 with size 1",
     "output_type": "error",
     "traceback": [
      "\u001b[0;31m---------------------------------------------------------------------------\u001b[0m",
      "\u001b[0;31mIndexError\u001b[0m                                Traceback (most recent call last)",
      "\u001b[0;32m/var/folders/4v/rbg8qwl17tx8qjyp4z64cntc0000gn/T/ipykernel_40515/1111402958.py\u001b[0m in \u001b[0;36m<module>\u001b[0;34m\u001b[0m\n\u001b[0;32m----> 1\u001b[0;31m \u001b[0ma\u001b[0m\u001b[0;34m[\u001b[0m\u001b[0;34m:\u001b[0m\u001b[0;34m,\u001b[0m \u001b[0;36m3\u001b[0m\u001b[0;34m]\u001b[0m\u001b[0;34m\u001b[0m\u001b[0;34m\u001b[0m\u001b[0m\n\u001b[0m",
      "\u001b[0;31mIndexError\u001b[0m: index 3 is out of bounds for axis 1 with size 1"
     ]
    }
   ],
   "source": [
    "a[:, 3]"
   ]
  },
  {
   "cell_type": "code",
   "execution_count": 2,
   "metadata": {},
   "outputs": [],
   "source": [
    "m = torch.nn.Linear(in_features=2, out_features=1)"
   ]
  },
  {
   "cell_type": "code",
   "execution_count": 6,
   "metadata": {},
   "outputs": [
    {
     "data": {
      "text/plain": [
       "(1,)"
      ]
     },
     "execution_count": 6,
     "metadata": {},
     "output_type": "execute_result"
    }
   ],
   "source": [
    "m.weight.detach().numpy().shape\n",
    "m.bias.detach().numpy().shape"
   ]
  },
  {
   "cell_type": "code",
   "execution_count": null,
   "metadata": {},
   "outputs": [],
   "source": []
  }
 ],
 "metadata": {
  "interpreter": {
   "hash": "39d7dbb437d063c754c82cf8e6b839566e777d8b07cf6ccd9b0451f2a2b8e0f1"
  },
  "kernelspec": {
   "display_name": "Python 3.7.11 64-bit ('deeppoly': conda)",
   "language": "python",
   "name": "python3"
  },
  "language_info": {
   "codemirror_mode": {
    "name": "ipython",
    "version": 3
   },
   "file_extension": ".py",
   "mimetype": "text/x-python",
   "name": "python",
   "nbconvert_exporter": "python",
   "pygments_lexer": "ipython3",
   "version": "3.7.11"
  },
  "orig_nbformat": 4
 },
 "nbformat": 4,
 "nbformat_minor": 2
}
