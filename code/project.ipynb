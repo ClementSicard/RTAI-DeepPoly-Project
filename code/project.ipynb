{
 "cells": [
  {
   "cell_type": "code",
   "execution_count": 51,
   "metadata": {},
   "outputs": [],
   "source": [
    "import torch\n",
    "from networks import FullyConnected, SPU, Normalization\n",
    "import os\n",
    "import time\n",
    "\n",
    "DEVICE = 'cpu'\n",
    "INPUT_SIZE = 28"
   ]
  },
  {
   "cell_type": "code",
   "execution_count": 50,
   "metadata": {},
   "outputs": [],
   "source": [
    "class Args:\n",
    "    net: str\n",
    "    spec: str\n",
    "\n",
    "    def __init__(self, net: str, spec: str):\n",
    "        self.net = net\n",
    "        self.spec = spec"
   ]
  },
  {
   "cell_type": "code",
   "execution_count": 28,
   "metadata": {},
   "outputs": [],
   "source": [
    "def analyze(net, inputs, eps, true_label):\n",
    "    start_time = time.time()\n",
    "\n",
    "    # Compute lower and upper bounds for all points\n",
    "    inputs_lx = inputs.detach() - eps * 1\n",
    "    inputs_ux = inputs.detach() + eps * 1\n",
    "\n",
    "    for layer in net.layers:\n",
    "        if type(layer) is SPU:\n",
    "            continue\n",
    "        \n",
    "        elif type(layer) is Normalization:\n",
    "            continue\n",
    "        \n",
    "        elif type(layer) is torch.nn.Flatten:\n",
    "            continue\n",
    "    \n",
    "\n",
    "    # ???\n",
    "\n",
    "    # Compare around \n",
    "    end_time = time.time()\n",
    "    \n",
    "    return 0\n",
    "\n",
    "    # return (true_label_lx > labels_ux).all()"
   ]
  },
  {
   "cell_type": "code",
   "execution_count": 52,
   "metadata": {},
   "outputs": [
    {
     "name": "stdout",
     "output_type": "stream",
     "text": [
      "Network: FullyConnected(\n",
      "  (layers): Sequential(\n",
      "    (0): Normalization()\n",
      "    (1): Flatten(start_dim=1, end_dim=-1)\n",
      "    (2): Linear(in_features=784, out_features=50, bias=True)\n",
      "    (3): SPU()\n",
      "    (4): Linear(in_features=50, out_features=10, bias=True)\n",
      "  )\n",
      ")\n",
      "Inputs shape: torch.Size([1, 1, 28, 28])\n",
      "Epsilon: 0.05\n",
      "True label: 3\n",
      "\n",
      "Not verified\n"
     ]
    }
   ],
   "source": [
    "args = Args(\n",
    "    net=\"net0_fc1\",\n",
    "    spec=\"../test_cases/net0_fc1/example_img1_0.05000.txt\"\n",
    ")\n",
    "\n",
    "with open(args.spec, 'r') as f:\n",
    "    lines = [line[:-1] for line in f.readlines()]\n",
    "    true_label = int(lines[0])\n",
    "    pixel_values = [float(line) for line in lines[1:]]\n",
    "    eps = float(args.spec[:-4].split('/')[-1].split('_')[-1])\n",
    "\n",
    "if args.net.endswith('fc1'):\n",
    "    net = FullyConnected(DEVICE, INPUT_SIZE, [50, 10]).to(DEVICE)\n",
    "\n",
    "elif args.net.endswith('fc2'):\n",
    "    net = FullyConnected(DEVICE, INPUT_SIZE, [100, 50, 10]).to(DEVICE)\n",
    "\n",
    "elif args.net.endswith('fc3'):\n",
    "    net = FullyConnected(DEVICE, INPUT_SIZE, [100, 100, 10]).to(DEVICE)\n",
    "\n",
    "elif args.net.endswith('fc4'):\n",
    "    net = FullyConnected(DEVICE, INPUT_SIZE, [100, 100, 50, 10]).to(DEVICE)\n",
    "\n",
    "elif args.net.endswith('fc5'):\n",
    "    net = FullyConnected(DEVICE, INPUT_SIZE, [\n",
    "                            100, 100, 100, 100, 10]).to(DEVICE)\n",
    "else:\n",
    "    assert False\n",
    "\n",
    "net.load_state_dict(torch.load('../mnist_nets/%s.pt' %\n",
    "                    args.net, map_location=torch.device(DEVICE)))\n",
    "\n",
    "inputs = torch.FloatTensor(pixel_values).view(\n",
    "    1, 1, INPUT_SIZE, INPUT_SIZE).to(DEVICE)\n",
    "\n",
    "outs = net(inputs)\n",
    "pred_label = outs.max(dim=1)[1].item()\n",
    "assert pred_label == true_label\n",
    "\n",
    "print(f'Network: {net}')\n",
    "print(f'Inputs shape: {inputs.shape}')\n",
    "print(f'Epsilon: {eps}')\n",
    "print(f'True label: {true_label}')\n",
    "\n",
    "print()\n",
    "\n",
    "if analyze(net, inputs, eps, true_label):\n",
    "    print('verified'.capitalize())\n",
    "else:\n",
    "    print('not verified'.capitalize())\n"
   ]
  },
  {
   "cell_type": "code",
   "execution_count": null,
   "metadata": {},
   "outputs": [],
   "source": []
  }
 ],
 "metadata": {
  "interpreter": {
   "hash": "39d7dbb437d063c754c82cf8e6b839566e777d8b07cf6ccd9b0451f2a2b8e0f1"
  },
  "kernelspec": {
   "display_name": "Python 3.7.11 64-bit ('deeppoly': conda)",
   "language": "python",
   "name": "python3"
  },
  "language_info": {
   "codemirror_mode": {
    "name": "ipython",
    "version": 3
   },
   "file_extension": ".py",
   "mimetype": "text/x-python",
   "name": "python",
   "nbconvert_exporter": "python",
   "pygments_lexer": "ipython3",
   "version": "3.7.11"
  },
  "orig_nbformat": 4
 },
 "nbformat": 4,
 "nbformat_minor": 2
}
